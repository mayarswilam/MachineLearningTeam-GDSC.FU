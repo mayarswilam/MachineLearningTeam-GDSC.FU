{
 "cells": [
  {
   "cell_type": "code",
   "execution_count": 1,
   "id": "f6d5e281",
   "metadata": {},
   "outputs": [
    {
     "name": "stdout",
     "output_type": "stream",
     "text": [
      "4\n"
     ]
    }
   ],
   "source": [
    "mar = 4\n",
    "print(mar)"
   ]
  },
  {
   "cell_type": "code",
   "execution_count": 2,
   "id": "01a924a6",
   "metadata": {},
   "outputs": [
    {
     "name": "stdout",
     "output_type": "stream",
     "text": [
      "i will go to school\n"
     ]
    }
   ],
   "source": [
    "mar2 = 'i will go to school'\n",
    "print(mar2)"
   ]
  },
  {
   "cell_type": "code",
   "execution_count": 3,
   "id": "c5e848e1",
   "metadata": {},
   "outputs": [
    {
     "data": {
      "text/plain": [
       "False"
      ]
     },
     "execution_count": 3,
     "metadata": {},
     "output_type": "execute_result"
    }
   ],
   "source": [
    "5 > 7"
   ]
  },
  {
   "cell_type": "code",
   "execution_count": 4,
   "id": "833c57d7",
   "metadata": {},
   "outputs": [
    {
     "data": {
      "text/plain": [
       "True"
      ]
     },
     "execution_count": 4,
     "metadata": {},
     "output_type": "execute_result"
    }
   ],
   "source": [
    "9 < 10"
   ]
  },
  {
   "cell_type": "code",
   "execution_count": 6,
   "id": "c040c9d0",
   "metadata": {},
   "outputs": [],
   "source": [
    "answer_1 = 15"
   ]
  },
  {
   "cell_type": "code",
   "execution_count": 10,
   "id": "92fdd3fe",
   "metadata": {},
   "outputs": [
    {
     "data": {
      "text/plain": [
       "int"
      ]
     },
     "execution_count": 10,
     "metadata": {},
     "output_type": "execute_result"
    }
   ],
   "source": [
    "type(answer_1)"
   ]
  },
  {
   "cell_type": "code",
   "execution_count": 11,
   "id": "72d21767",
   "metadata": {},
   "outputs": [],
   "source": [
    "answer_2 = \"hello\""
   ]
  },
  {
   "cell_type": "code",
   "execution_count": 12,
   "id": "50abf9d8",
   "metadata": {},
   "outputs": [
    {
     "data": {
      "text/plain": [
       "str"
      ]
     },
     "execution_count": 12,
     "metadata": {},
     "output_type": "execute_result"
    }
   ],
   "source": [
    "type(answer_2)"
   ]
  },
  {
   "cell_type": "code",
   "execution_count": 13,
   "id": "a3d23bce",
   "metadata": {},
   "outputs": [
    {
     "data": {
      "text/plain": [
       "float"
      ]
     },
     "execution_count": 13,
     "metadata": {},
     "output_type": "execute_result"
    }
   ],
   "source": [
    "cov = 12.3\n",
    "type(cov)"
   ]
  },
  {
   "cell_type": "code",
   "execution_count": 14,
   "id": "77baadcf",
   "metadata": {},
   "outputs": [
    {
     "data": {
      "text/plain": [
       "str"
      ]
     },
     "execution_count": 14,
     "metadata": {},
     "output_type": "execute_result"
    }
   ],
   "source": [
    "lola = \"welcome\"\n",
    "type(lola)"
   ]
  },
  {
   "cell_type": "code",
   "execution_count": 15,
   "id": "ce7aca14",
   "metadata": {},
   "outputs": [
    {
     "data": {
      "text/plain": [
       "list"
      ]
     },
     "execution_count": 15,
     "metadata": {},
     "output_type": "execute_result"
    }
   ],
   "source": [
    "der = [1,2,3]\n",
    "type(der)"
   ]
  },
  {
   "cell_type": "code",
   "execution_count": 16,
   "id": "68617c96",
   "metadata": {},
   "outputs": [
    {
     "data": {
      "text/plain": [
       "set"
      ]
     },
     "execution_count": 16,
     "metadata": {},
     "output_type": "execute_result"
    }
   ],
   "source": [
    "gos = {1,2,3}\n",
    "type(gos)"
   ]
  },
  {
   "cell_type": "code",
   "execution_count": 17,
   "id": "21ffbc93",
   "metadata": {},
   "outputs": [
    {
     "data": {
      "text/plain": [
       "str"
      ]
     },
     "execution_count": 17,
     "metadata": {},
     "output_type": "execute_result"
    }
   ],
   "source": [
    "bar = \"123\"\n",
    "type(bar)"
   ]
  },
  {
   "cell_type": "markdown",
   "id": "d48cb258",
   "metadata": {},
   "source": [
    "#Task 2"
   ]
  },
  {
   "cell_type": "code",
   "execution_count": 76,
   "id": "eb9aedcd",
   "metadata": {},
   "outputs": [
    {
     "name": "stdout",
     "output_type": "stream",
     "text": [
      "Aultkelly\n"
     ]
    }
   ],
   "source": [
    "s1 = \"Ault\"\n",
    "s2 = \"kelly\"\n",
    "sor = s1 + s2\n",
    "print(sor)"
   ]
  },
  {
   "cell_type": "code",
   "execution_count": 85,
   "id": "d375218d",
   "metadata": {},
   "outputs": [
    {
     "data": {
      "text/plain": [
       "'Aukellylt'"
      ]
     },
     "execution_count": 85,
     "metadata": {},
     "output_type": "execute_result"
    }
   ],
   "source": [
    "sor.replace(\"lt\",\"\")+\"lt\""
   ]
  },
  {
   "cell_type": "code",
   "execution_count": 88,
   "id": "55ea4885",
   "metadata": {},
   "outputs": [
    {
     "name": "stdout",
     "output_type": "stream",
     "text": [
      "tlyllekuA\n"
     ]
    }
   ],
   "source": [
    "sor = 'Aukellylt'[::-1]\n",
    "print(sor)"
   ]
  },
  {
   "cell_type": "code",
   "execution_count": 90,
   "id": "cedf277e",
   "metadata": {},
   "outputs": [
    {
     "data": {
      "text/plain": [
       "6"
      ]
     },
     "execution_count": 90,
     "metadata": {},
     "output_type": "execute_result"
    }
   ],
   "source": [
    "sor.find('k')"
   ]
  },
  {
   "cell_type": "code",
   "execution_count": 91,
   "id": "75fe5310",
   "metadata": {},
   "outputs": [
    {
     "name": "stdout",
     "output_type": "stream",
     "text": [
      "hello world\n"
     ]
    }
   ],
   "source": [
    "txt = \"hello world\"\n",
    "print(txt)"
   ]
  },
  {
   "cell_type": "code",
   "execution_count": 95,
   "id": "a5e4452e",
   "metadata": {},
   "outputs": [
    {
     "name": "stdout",
     "output_type": "stream",
     "text": [
      "h\n"
     ]
    }
   ],
   "source": [
    "print(txt[0])"
   ]
  },
  {
   "cell_type": "code",
   "execution_count": 97,
   "id": "7f18620f",
   "metadata": {},
   "outputs": [
    {
     "name": "stdout",
     "output_type": "stream",
     "text": [
      "llo\n"
     ]
    }
   ],
   "source": [
    "print(txt[2:5])"
   ]
  },
  {
   "cell_type": "code",
   "execution_count": 98,
   "id": "139b657e",
   "metadata": {},
   "outputs": [
    {
     "data": {
      "text/plain": [
       "'HELLO WORLD'"
      ]
     },
     "execution_count": 98,
     "metadata": {},
     "output_type": "execute_result"
    }
   ],
   "source": [
    "txt.upper()"
   ]
  },
  {
   "cell_type": "code",
   "execution_count": 99,
   "id": "22836288",
   "metadata": {},
   "outputs": [
    {
     "data": {
      "text/plain": [
       "'hello world'"
      ]
     },
     "execution_count": 99,
     "metadata": {},
     "output_type": "execute_result"
    }
   ],
   "source": [
    "txt.lower()"
   ]
  },
  {
   "cell_type": "markdown",
   "id": "d135b297",
   "metadata": {},
   "source": [
    "#task 3"
   ]
  },
  {
   "cell_type": "code",
   "execution_count": 106,
   "id": "0c7aeda5",
   "metadata": {},
   "outputs": [],
   "source": [
    "list1 = [100, 200, 300, 400, 500]\n",
    "fruits = [\"apple\", \"banana\", \"cherry\"]"
   ]
  },
  {
   "cell_type": "code",
   "execution_count": 107,
   "id": "c2394ea6",
   "metadata": {},
   "outputs": [
    {
     "data": {
      "text/plain": [
       "[100, 200, 300, 400, 500]"
      ]
     },
     "execution_count": 107,
     "metadata": {},
     "output_type": "execute_result"
    }
   ],
   "source": [
    "list1"
   ]
  },
  {
   "cell_type": "code",
   "execution_count": 109,
   "id": "304ded3c",
   "metadata": {},
   "outputs": [],
   "source": [
    "fruits[0] = \"kiwi\""
   ]
  },
  {
   "cell_type": "code",
   "execution_count": 110,
   "id": "00a5d371",
   "metadata": {},
   "outputs": [
    {
     "name": "stdout",
     "output_type": "stream",
     "text": [
      "['kiwi', 'banana', 'cherry']\n"
     ]
    }
   ],
   "source": [
    "print(fruits)"
   ]
  },
  {
   "cell_type": "code",
   "execution_count": 113,
   "id": "543ce3b6",
   "metadata": {},
   "outputs": [],
   "source": [
    "fruits.insert(2,\"lemon\")"
   ]
  },
  {
   "cell_type": "code",
   "execution_count": 114,
   "id": "c0a90af7",
   "metadata": {},
   "outputs": [
    {
     "data": {
      "text/plain": [
       "['kiwi', 'banana', 'lemon', 'cherry']"
      ]
     },
     "execution_count": 114,
     "metadata": {},
     "output_type": "execute_result"
    }
   ],
   "source": [
    "fruits"
   ]
  },
  {
   "cell_type": "code",
   "execution_count": 115,
   "id": "28d52733",
   "metadata": {},
   "outputs": [
    {
     "name": "stdout",
     "output_type": "stream",
     "text": [
      "cherry\n"
     ]
    }
   ],
   "source": [
    "print(fruits[-1])"
   ]
  },
  {
   "cell_type": "code",
   "execution_count": 118,
   "id": "ea79b792",
   "metadata": {},
   "outputs": [],
   "source": [
    "fruits.insert(1,\"orange\")"
   ]
  },
  {
   "cell_type": "code",
   "execution_count": 119,
   "id": "16e28440",
   "metadata": {},
   "outputs": [
    {
     "data": {
      "text/plain": [
       "['kiwi', 'orange', 'banana', 'lemon', 'cherry']"
      ]
     },
     "execution_count": 119,
     "metadata": {},
     "output_type": "execute_result"
    }
   ],
   "source": [
    "fruits"
   ]
  },
  {
   "cell_type": "code",
   "execution_count": 120,
   "id": "2933c295",
   "metadata": {},
   "outputs": [],
   "source": [
    "fruits.append(\"apple\")"
   ]
  },
  {
   "cell_type": "code",
   "execution_count": 121,
   "id": "6c27a65a",
   "metadata": {},
   "outputs": [
    {
     "data": {
      "text/plain": [
       "['kiwi', 'orange', 'banana', 'lemon', 'cherry', 'apple']"
      ]
     },
     "execution_count": 121,
     "metadata": {},
     "output_type": "execute_result"
    }
   ],
   "source": [
    "fruits"
   ]
  },
  {
   "cell_type": "code",
   "execution_count": 123,
   "id": "0806cbd1",
   "metadata": {},
   "outputs": [],
   "source": [
    "fruits.insert(2,\"mango\")"
   ]
  },
  {
   "cell_type": "code",
   "execution_count": 124,
   "id": "929559a6",
   "metadata": {},
   "outputs": [
    {
     "data": {
      "text/plain": [
       "['kiwi', 'orange', 'mango', 'banana', 'lemon', 'cherry', 'apple']"
      ]
     },
     "execution_count": 124,
     "metadata": {},
     "output_type": "execute_result"
    }
   ],
   "source": [
    "fruits"
   ]
  },
  {
   "cell_type": "code",
   "execution_count": 130,
   "id": "23629ca4",
   "metadata": {},
   "outputs": [
    {
     "data": {
      "text/plain": [
       "['apple', 'banana', 'cherry', 'kiwi', 'lemon', 'mango', 'orange']"
      ]
     },
     "execution_count": 130,
     "metadata": {},
     "output_type": "execute_result"
    }
   ],
   "source": [
    "fruits.sort()\n",
    "fruits"
   ]
  },
  {
   "cell_type": "code",
   "execution_count": null,
   "id": "ad366d5a",
   "metadata": {},
   "outputs": [],
   "source": [
    "list1 = [\"100\" ,\"200\" ,\"300\" ,\"400\" ,\"500\"]"
   ]
  },
  {
   "cell_type": "code",
   "execution_count": null,
   "id": "937c44f2",
   "metadata": {},
   "outputs": [],
   "source": [
    "fruits = [\"apple\", \"banana\", \"cherry\"]"
   ]
  },
  {
   "cell_type": "code",
   "execution_count": 127,
   "id": "4b3be19f",
   "metadata": {},
   "outputs": [],
   "source": [
    "list1.extend(fruits)"
   ]
  },
  {
   "cell_type": "code",
   "execution_count": 128,
   "id": "6101e634",
   "metadata": {},
   "outputs": [
    {
     "data": {
      "text/plain": [
       "[100,\n",
       " 200,\n",
       " 300,\n",
       " 400,\n",
       " 500,\n",
       " 'kiwi',\n",
       " 'orange',\n",
       " 'mango',\n",
       " 'banana',\n",
       " 'lemon',\n",
       " 'cherry',\n",
       " 'apple']"
      ]
     },
     "execution_count": 128,
     "metadata": {},
     "output_type": "execute_result"
    }
   ],
   "source": [
    "list1"
   ]
  }
 ],
 "metadata": {
  "kernelspec": {
   "display_name": "Python 3 (ipykernel)",
   "language": "python",
   "name": "python3"
  },
  "language_info": {
   "codemirror_mode": {
    "name": "ipython",
    "version": 3
   },
   "file_extension": ".py",
   "mimetype": "text/x-python",
   "name": "python",
   "nbconvert_exporter": "python",
   "pygments_lexer": "ipython3",
   "version": "3.9.12"
  }
 },
 "nbformat": 4,
 "nbformat_minor": 5
}

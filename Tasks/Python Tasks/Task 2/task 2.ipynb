{
 "cells": [
  {
   "cell_type": "code",
   "execution_count": 1,
   "id": "6531b7b5",
   "metadata": {},
   "outputs": [],
   "source": [
    "import re\n",
    "def grading_system():\n",
    "  gys = [25 , 45 ,50 ,60]\n",
    "  if gys < 25:\n",
    "    print(\"any where\")\n",
    "  elif gys < 45:\n",
    "    print(\"urban areas only\")\n",
    "  elif gys < 50:\n",
    "    print(\"areas only ||\")\n",
    "  elif gys < 60:\n",
    "    print(\"error\")\n",
    "  return ;\n",
    "  %recall\n",
    "def my_fun():\n",
    " m = input(\"please enter a sex: \")\n",
    " m2 = input(\"please enter a material status: \")\n",
    " m3 = input(\"please enter a age: \")\n",
    " return m , m2 ,m3\n",
    " %recall"
   ]
  },
  {
   "cell_type": "code",
   "execution_count": 8,
   "id": "a710c343",
   "metadata": {},
   "outputs": [
    {
     "name": "stdout",
     "output_type": "stream",
     "text": [
      "please enter a sex: male\n",
      "please enter a material status: married\n",
      "please enter a age: 60\n"
     ]
    }
   ],
   "source": [
    "m ,m2 ,m3 = my_fun()"
   ]
  },
  {
   "cell_type": "markdown",
   "id": "4bb25311",
   "metadata": {},
   "source": [
    "task 2"
   ]
  },
  {
   "cell_type": "code",
   "execution_count": 3,
   "id": "396fac66",
   "metadata": {},
   "outputs": [
    {
     "name": "stdout",
     "output_type": "stream",
     "text": [
      "2,3,5,7,11,13,17,19,23,29\n"
     ]
    }
   ],
   "source": [
    "counter = 0\n",
    "number = 2\n",
    "prime = []\n",
    " \n",
    "while counter < 10:\n",
    "    for i in range(2, number):\n",
    "        if number % i == 0:\n",
    "            break\n",
    "    else:\n",
    "        prime.append(str(number))\n",
    "        counter += 1\n",
    "    number += 1\n",
    " \n",
    "print(','.join(prime))\n"
   ]
  },
  {
   "cell_type": "code",
   "execution_count": 18,
   "id": "bd011661",
   "metadata": {},
   "outputs": [
    {
     "name": "stdout",
     "output_type": "stream",
     "text": [
      "2\n",
      "3\n",
      "5\n",
      "7\n",
      "11\n",
      "13\n",
      "17\n",
      "19\n",
      "23\n",
      "29\n",
      "31\n",
      "37\n",
      "41\n",
      "43\n",
      "47\n",
      "53\n",
      "59\n",
      "61\n",
      "67\n",
      "71\n",
      "73\n",
      "79\n",
      "83\n",
      "89\n",
      "97\n",
      "2\n",
      "3\n",
      "5\n",
      "7\n",
      "11\n",
      "13\n",
      "17\n",
      "19\n",
      "23\n",
      "29\n",
      "31\n",
      "37\n",
      "41\n",
      "43\n",
      "47\n",
      "53\n",
      "59\n",
      "61\n",
      "67\n",
      "71\n",
      "73\n",
      "79\n",
      "83\n",
      "89\n",
      "97\n",
      "2\n",
      "3\n",
      "5\n",
      "7\n",
      "11\n",
      "13\n",
      "17\n",
      "19\n",
      "23\n",
      "29\n",
      "31\n",
      "37\n",
      "41\n",
      "43\n",
      "47\n",
      "53\n",
      "59\n",
      "61\n",
      "67\n",
      "71\n",
      "73\n",
      "79\n",
      "83\n",
      "89\n",
      "97\n"
     ]
    }
   ],
   "source": [
    "for num in range(2,101):\n",
    "    prime = True\n",
    "    for i in range(2,num):\n",
    "        if (num%i==0):\n",
    "            prime = False\n",
    "    if prime:\n",
    "       print (num)\n",
    "\n",
    "\n",
    "for num in range(2,101):\n",
    "    if all(num%i!=0 for i in range(2,num)):\n",
    "       print (num)\n",
    "\n",
    "\n",
    "import math\n",
    "for num in range(2,101):\n",
    "    if all(num%i!=0 for i in range(2,int(math.sqrt(num))+1)):\n",
    "       print (num)\n"
   ]
  },
  {
   "cell_type": "markdown",
   "id": "ae479e2f",
   "metadata": {},
   "source": [
    "task3"
   ]
  },
  {
   "cell_type": "code",
   "execution_count": 4,
   "id": "19d5ae96",
   "metadata": {},
   "outputs": [
    {
     "name": "stdout",
     "output_type": "stream",
     "text": [
      "000\n",
      "001\n",
      "002\n",
      "003\n",
      "004\n",
      "005\n",
      "006\n",
      "007\n",
      "008\n",
      "009\n",
      "010\n",
      "011\n",
      "012\n",
      "013\n",
      "014\n",
      "015\n",
      "016\n",
      "017\n",
      "018\n",
      "019\n",
      "020\n",
      "021\n",
      "022\n",
      "023\n",
      "024\n",
      "025\n",
      "026\n",
      "027\n",
      "028\n",
      "029\n",
      "030\n",
      "031\n",
      "032\n",
      "033\n",
      "034\n",
      "035\n",
      "036\n",
      "037\n",
      "038\n",
      "039\n",
      "040\n",
      "041\n",
      "042\n",
      "043\n",
      "044\n",
      "045\n",
      "046\n",
      "047\n",
      "048\n",
      "049\n",
      "050\n",
      "051\n",
      "052\n",
      "053\n",
      "054\n",
      "055\n",
      "056\n",
      "057\n",
      "058\n",
      "059\n",
      "060\n",
      "061\n",
      "062\n",
      "063\n",
      "064\n",
      "065\n",
      "066\n",
      "067\n",
      "068\n",
      "069\n",
      "070\n",
      "071\n",
      "072\n",
      "073\n",
      "074\n",
      "075\n",
      "076\n",
      "077\n",
      "078\n",
      "079\n",
      "080\n",
      "081\n",
      "082\n",
      "083\n",
      "084\n",
      "085\n",
      "086\n",
      "087\n",
      "088\n",
      "089\n",
      "090\n",
      "091\n",
      "092\n",
      "093\n",
      "094\n",
      "095\n",
      "096\n",
      "097\n",
      "098\n",
      "099\n"
     ]
    }
   ],
   "source": [
    "a = 0 \n",
    "b = 0 \n",
    "c = 0\n",
    "for i in range(0,100):\n",
    "    print(f\"{i:03}\")"
   ]
  },
  {
   "cell_type": "markdown",
   "id": "fc72a37c",
   "metadata": {},
   "source": [
    "task 4"
   ]
  },
  {
   "cell_type": "code",
   "execution_count": 22,
   "id": "f7c8c722",
   "metadata": {
    "scrolled": true
   },
   "outputs": [
    {
     "name": "stdout",
     "output_type": "stream",
     "text": [
      "Input IP address:192.168.255.252\n",
      "192.168.255.253\n",
      "192.168.255.254\n",
      "192.168.255.255\n",
      "192.169.0.0\n",
      "192.169.0.1\n"
     ]
    }
   ],
   "source": [
    "ip = input(\"Input IP address:\")\n",
    "start_ip = ipaddress.IPv4Address(int(ipaddress.IPv4Address(ip))+1)\n",
    "end_ip = ipaddress.IPv4Address(int(ipaddress.IPv4Address(ip))+6)\n",
    "for ip_int in range(int(start_ip), int(end_ip)):\n",
    "    print(ipaddress.IPv4Address(ip_int))\n",
    "\n"
   ]
  },
  {
   "cell_type": "markdown",
   "id": "f4436912",
   "metadata": {},
   "source": [
    "task 5"
   ]
  },
  {
   "cell_type": "code",
   "execution_count": null,
   "id": "16c3ae09",
   "metadata": {},
   "outputs": [],
   "source": [
    "def employee_show():\n",
    "    input(\"what's your employee name:    \")\n",
    "    input(\"what's your salary:    \")\n",
    "    input(\"what's your name:    \")\n",
    "    input(\"what's your age:    \")\n",
    "    return"
   ]
  },
  {
   "cell_type": "code",
   "execution_count": 15,
   "id": "b5b85f8e",
   "metadata": {},
   "outputs": [
    {
     "name": "stdout",
     "output_type": "stream",
     "text": [
      "what's your employee name:    market\n",
      "what's your salary:    9000\n",
      "what's your name:    mayar\n",
      "what's your age:    20\n"
     ]
    }
   ],
   "source": [
    "employee_show()"
   ]
  }
 ],
 "metadata": {
  "kernelspec": {
   "display_name": "Python 3 (ipykernel)",
   "language": "python",
   "name": "python3"
  },
  "language_info": {
   "codemirror_mode": {
    "name": "ipython",
    "version": 3
   },
   "file_extension": ".py",
   "mimetype": "text/x-python",
   "name": "python",
   "nbconvert_exporter": "python",
   "pygments_lexer": "ipython3",
   "version": "3.9.12"
  }
 },
 "nbformat": 4,
 "nbformat_minor": 5
}
